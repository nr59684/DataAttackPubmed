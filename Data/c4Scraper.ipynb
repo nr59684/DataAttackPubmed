{
 "cells": [
  {
   "cell_type": "code",
   "execution_count": 3,
   "metadata": {},
   "outputs": [],
   "source": [
    "#!/usr/bin/env python3\n",
    "\"\"\"\n",
    "Scrape a subset of The Pile using Hugging Face datasets in streaming mode.\n",
    "\n",
    "Steps:\n",
    " 1. Install datasets library: pip install datasets\n",
    " 2. Run this script to download a subset of The Pile from Hugging Face.\n",
    " 3. The result is saved to 'pile_subset.json' as a list of document strings.\n",
    "\"\"\"\n",
    "\n",
    "import json\n",
    "from datasets import load_dataset\n",
    "\n",
    "def sample_c4_docs(sample_size=1000):\n",
    "    \"\"\"\n",
    "    Stream through c4/en in a doc-by-doc manner, collecting 'sample_size' docs.\n",
    "    Each doc is typically a big chunk of cleaned web text.\n",
    "    \"\"\"\n",
    "    # c4 is ~306GB total, we avoid full download by streaming\n",
    "    dataset = load_dataset(\"allenai/c4\", \"en\", streaming=True)\n",
    "\n",
    "\n",
    "    # 'dataset' is an iterable. We'll only iterate over 'train' split docs (the main portion).\n",
    "    docs_iter = dataset[\"train\"]  # an iterator over dicts like {'text': \"...\", 'timestamp': \"...\", ...}\n",
    "    \n",
    "    docs = []\n",
    "    count = 0\n",
    "    for doc in docs_iter:\n",
    "        text = doc[\"text\"]\n",
    "        docs.append(text)\n",
    "        count += 1\n",
    "        if count >= sample_size:\n",
    "            break\n",
    "    return docs\n",
    "\n"
   ]
  },
  {
   "cell_type": "code",
   "execution_count": 5,
   "metadata": {},
   "outputs": [
    {
     "name": "stdout",
     "output_type": "stream",
     "text": [
      "[INFO] Sampling 2000000 docs from The Pile (streaming mode).\n"
     ]
    },
    {
     "data": {
      "application/vnd.jupyter.widget-view+json": {
       "model_id": "4173af4d68ee47ea84cf5b3339d015a0",
       "version_major": 2,
       "version_minor": 0
      },
      "text/plain": [
       "Resolving data files:   0%|          | 0/1024 [00:00<?, ?it/s]"
      ]
     },
     "metadata": {},
     "output_type": "display_data"
    },
    {
     "data": {
      "application/vnd.jupyter.widget-view+json": {
       "model_id": "ff77fd58eaab4681b20c08c1bcdf60c4",
       "version_major": 2,
       "version_minor": 0
      },
      "text/plain": [
       "Resolving data files:   0%|          | 0/1024 [00:00<?, ?it/s]"
      ]
     },
     "metadata": {},
     "output_type": "display_data"
    },
    {
     "name": "stderr",
     "output_type": "stream",
     "text": [
      "'(ReadTimeoutError(\"HTTPSConnectionPool(host='cdn-lfs.hf.co', port=443): Read timed out. (read timeout=10)\"), '(Request ID: ab43a5cc-607c-4a7b-b0a6-31282eedc7f2)')' thrown while requesting GET https://huggingface.co/datasets/allenai/c4/resolve/1588ec454efa1a09f29cd18ddd04fe05fc8653a2/en/c4-train.00000-of-01024.json.gz\n",
      "Retrying in 1s [Retry 1/5].\n",
      "'HTTPSConnectionPool(host='cdn-lfs.hf.co', port=443): Read timed out.' thrown while requesting GET https://huggingface.co/datasets/allenai/c4/resolve/1588ec454efa1a09f29cd18ddd04fe05fc8653a2/en/c4-train.00000-of-01024.json.gz\n",
      "Retrying in 1s [Retry 1/5].\n",
      "'(ReadTimeoutError(\"HTTPSConnectionPool(host='huggingface.co', port=443): Read timed out. (read timeout=10)\"), '(Request ID: f0cde7a5-9642-4f04-9a0b-2ff196430fcc)')' thrown while requesting GET https://huggingface.co/datasets/allenai/c4/resolve/1588ec454efa1a09f29cd18ddd04fe05fc8653a2/en/c4-train.00000-of-01024.json.gz\n",
      "Retrying in 2s [Retry 2/5].\n"
     ]
    },
    {
     "name": "stdout",
     "output_type": "stream",
     "text": [
      "[INFO] Collected 2000000 documents.\n",
      "[INFO] Wrote 2000000 docs to C4_subset.json.\n"
     ]
    }
   ],
   "source": [
    "\n",
    "sample_size = 2000000    # Adjust as desired\n",
    "out_file = \"C4_subset.json\"\n",
    "print(f\"[INFO] Sampling {sample_size} docs from The Pile (streaming mode).\")\n",
    "docs = sample_c4_docs(sample_size)\n",
    "print(f\"[INFO] Collected {len(docs)} documents.\")\n",
    "# Save to JSON\n",
    "with open(out_file, \"w\", encoding=\"utf-8\") as f:\n",
    "    json.dump(docs, f, indent=2)\n",
    "print(f\"[INFO] Wrote {len(docs)} docs to {out_file}.\")"
   ]
  }
 ],
 "metadata": {
  "kernelspec": {
   "display_name": "dataCon",
   "language": "python",
   "name": "python3"
  },
  "language_info": {
   "codemirror_mode": {
    "name": "ipython",
    "version": 3
   },
   "file_extension": ".py",
   "mimetype": "text/x-python",
   "name": "python",
   "nbconvert_exporter": "python",
   "pygments_lexer": "ipython3",
   "version": "3.11.11"
  }
 },
 "nbformat": 4,
 "nbformat_minor": 2
}
